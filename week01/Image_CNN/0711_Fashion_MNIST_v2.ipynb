{
  "nbformat": 4,
  "nbformat_minor": 0,
  "metadata": {
    "colab": {
      "name": "0711_Fashion_MNIST_v2.ipynb",
      "provenance": [],
      "authorship_tag": "ABX9TyOoOMDqNqWSjueP9xRer2xD",
      "include_colab_link": true
    },
    "kernelspec": {
      "name": "python3",
      "display_name": "Python 3"
    },
    "language_info": {
      "name": "python"
    },
    "accelerator": "GPU",
    "gpuClass": "standard"
  },
  "cells": [
    {
      "cell_type": "markdown",
      "metadata": {
        "id": "view-in-github",
        "colab_type": "text"
      },
      "source": [
        "<a href=\"https://colab.research.google.com/github/HyeJeongIm/AI_HUB_yangjae/blob/main/week01/Image_CNN/0711_Fashion_MNIST_v2.ipynb\" target=\"_parent\"><img src=\"https://colab.research.google.com/assets/colab-badge.svg\" alt=\"Open In Colab\"/></a>"
      ]
    },
    {
      "cell_type": "code",
      "execution_count": 3,
      "metadata": {
        "id": "BpzkjaS76XDT"
      },
      "outputs": [],
      "source": [
        "import tensorflow as tf\n",
        "import numpy as np\n",
        "import matplotlib.pyplot as plt\n",
        "from tensorflow import keras\n",
        "\n",
        "from tensorflow.keras.utils import to_categorical\n",
        "from tensorflow.keras import Sequential, Input\n",
        "from tensorflow.keras.layers import Flatten, Dense, Dropout, Conv2D, MaxPool2D, GlobalAveragePooling2D\n",
        "from tensorflow.keras.optimizers import Adam"
      ]
    },
    {
      "cell_type": "code",
      "source": [
        "fashion_mnist = keras.datasets.fashion_mnist\n",
        "(train_x, train_y), (test_x, test_y) = fashion_mnist.load_data()"
      ],
      "metadata": {
        "colab": {
          "base_uri": "https://localhost:8080/"
        },
        "id": "miMmSEhS75Zp",
        "outputId": "4b9e5caa-4bf2-4c9d-8d1a-478e5614aa67"
      },
      "execution_count": 4,
      "outputs": [
        {
          "output_type": "stream",
          "name": "stdout",
          "text": [
            "Downloading data from https://storage.googleapis.com/tensorflow/tf-keras-datasets/train-labels-idx1-ubyte.gz\n",
            "32768/29515 [=================================] - 0s 0us/step\n",
            "40960/29515 [=========================================] - 0s 0us/step\n",
            "Downloading data from https://storage.googleapis.com/tensorflow/tf-keras-datasets/train-images-idx3-ubyte.gz\n",
            "26427392/26421880 [==============================] - 0s 0us/step\n",
            "26435584/26421880 [==============================] - 0s 0us/step\n",
            "Downloading data from https://storage.googleapis.com/tensorflow/tf-keras-datasets/t10k-labels-idx1-ubyte.gz\n",
            "16384/5148 [===============================================================================================] - 0s 0us/step\n",
            "Downloading data from https://storage.googleapis.com/tensorflow/tf-keras-datasets/t10k-images-idx3-ubyte.gz\n",
            "4423680/4422102 [==============================] - 0s 0us/step\n",
            "4431872/4422102 [==============================] - 0s 0us/step\n"
          ]
        }
      ]
    },
    {
      "cell_type": "code",
      "source": [
        "class_names = ['T-shirt/top', 'Trouser', 'Pullover', 'Dress', 'Coat','Sandal', 'Shirt', 'Sneaker', 'Bag', 'Ankle boot']"
      ],
      "metadata": {
        "id": "nsHt-PxL8Ifa"
      },
      "execution_count": 5,
      "outputs": []
    },
    {
      "cell_type": "code",
      "source": [
        "print(np.max(train_x[0]))\n",
        "print(train_x[0].shape)\n",
        "print(\"train_x.shape: \", train_x.shape)\n",
        "print(\"test_x.shape: \", test_x.shape)"
      ],
      "metadata": {
        "colab": {
          "base_uri": "https://localhost:8080/"
        },
        "id": "xL0q8AJP8I7h",
        "outputId": "c9d276d0-9523-44d6-9f7a-98121444c054"
      },
      "execution_count": 6,
      "outputs": [
        {
          "output_type": "stream",
          "name": "stdout",
          "text": [
            "255\n",
            "(28, 28)\n",
            "train_x.shape:  (60000, 28, 28)\n",
            "test_x.shape:  (10000, 28, 28)\n"
          ]
        }
      ]
    },
    {
      "cell_type": "code",
      "source": [
        "train_x = train_x / 255.0\n",
        "test_x = test_x / 255.0"
      ],
      "metadata": {
        "id": "QVPx6wSp8Qhg"
      },
      "execution_count": 7,
      "outputs": []
    },
    {
      "cell_type": "code",
      "source": [
        "train_x = train_x.reshape(-1, 28, 28, 1)\n",
        "test_x = test_x.reshape(-1, 28, 28, 1)\n",
        "\n",
        "print(train_x.shape, test_x.shape)"
      ],
      "metadata": {
        "colab": {
          "base_uri": "https://localhost:8080/"
        },
        "id": "dzuT7yrd8ZI3",
        "outputId": "185bb481-d06d-4357-8c2f-44f835951dab"
      },
      "execution_count": 8,
      "outputs": [
        {
          "output_type": "stream",
          "name": "stdout",
          "text": [
            "(60000, 28, 28, 1) (10000, 28, 28, 1)\n"
          ]
        }
      ]
    },
    {
      "cell_type": "code",
      "source": [
        "def build_model():\n",
        "  model = Sequential()\n",
        "\n",
        "  model.add(Conv2D(input_shape = (28,28,1), kernel_size = (3, 3), filters = 16))\n",
        "  model.add(Conv2D(kernel_size = (3, 3), filters = 32))\n",
        "  model.add(Conv2D(kernel_size = (3, 3), filters = 64))\n",
        "\n",
        "  model.add(Flatten())\n",
        "  model.add(Dense(128, activation = 'relu'))\n",
        "  model.add(Dense(10, activation = 'softmax'))\n",
        "  \n",
        "  return model \n",
        "\n",
        "cnn_model = build_model()\n",
        "cnn_model.summary()"
      ],
      "metadata": {
        "colab": {
          "base_uri": "https://localhost:8080/"
        },
        "id": "bgbN-hjq8vHA",
        "outputId": "26067f3e-d775-4e40-b5f0-92af318889d1"
      },
      "execution_count": 9,
      "outputs": [
        {
          "output_type": "stream",
          "name": "stdout",
          "text": [
            "Model: \"sequential\"\n",
            "_________________________________________________________________\n",
            " Layer (type)                Output Shape              Param #   \n",
            "=================================================================\n",
            " conv2d (Conv2D)             (None, 26, 26, 16)        160       \n",
            "                                                                 \n",
            " conv2d_1 (Conv2D)           (None, 24, 24, 32)        4640      \n",
            "                                                                 \n",
            " conv2d_2 (Conv2D)           (None, 22, 22, 64)        18496     \n",
            "                                                                 \n",
            " flatten (Flatten)           (None, 30976)             0         \n",
            "                                                                 \n",
            " dense (Dense)               (None, 128)               3965056   \n",
            "                                                                 \n",
            " dense_1 (Dense)             (None, 10)                1290      \n",
            "                                                                 \n",
            "=================================================================\n",
            "Total params: 3,989,642\n",
            "Trainable params: 3,989,642\n",
            "Non-trainable params: 0\n",
            "_________________________________________________________________\n"
          ]
        }
      ]
    },
    {
      "cell_type": "code",
      "source": [
        "cnn_model.compile(optimizer = tf.keras.optimizers.Adam(), loss = 'sparse_categorical_crossentropy', metrics = ['accuracy'])\n",
        "hist = cnn_model.fit(train_x, train_y, epochs = 10, validation_split = 0.25)"
      ],
      "metadata": {
        "colab": {
          "base_uri": "https://localhost:8080/"
        },
        "id": "OuOQqdtZ9l70",
        "outputId": "492dc651-06dd-4c0a-ed19-0e421d700dbb"
      },
      "execution_count": 14,
      "outputs": [
        {
          "output_type": "stream",
          "name": "stdout",
          "text": [
            "Epoch 1/10\n",
            "1407/1407 [==============================] - 18s 5ms/step - loss: 0.4669 - accuracy: 0.8339 - val_loss: 0.3786 - val_accuracy: 0.8616\n",
            "Epoch 2/10\n",
            "1407/1407 [==============================] - 7s 5ms/step - loss: 0.3373 - accuracy: 0.8766 - val_loss: 0.3751 - val_accuracy: 0.8663\n",
            "Epoch 3/10\n",
            "1407/1407 [==============================] - 7s 5ms/step - loss: 0.2866 - accuracy: 0.8949 - val_loss: 0.3632 - val_accuracy: 0.8719\n",
            "Epoch 4/10\n",
            "1407/1407 [==============================] - 7s 5ms/step - loss: 0.2411 - accuracy: 0.9098 - val_loss: 0.3831 - val_accuracy: 0.8652\n",
            "Epoch 5/10\n",
            "1407/1407 [==============================] - 7s 5ms/step - loss: 0.2114 - accuracy: 0.9210 - val_loss: 0.4280 - val_accuracy: 0.8643\n",
            "Epoch 6/10\n",
            "1407/1407 [==============================] - 10s 7ms/step - loss: 0.1820 - accuracy: 0.9324 - val_loss: 0.4516 - val_accuracy: 0.8708\n",
            "Epoch 7/10\n",
            "1407/1407 [==============================] - 7s 5ms/step - loss: 0.1616 - accuracy: 0.9395 - val_loss: 0.5468 - val_accuracy: 0.8671\n",
            "Epoch 8/10\n",
            "1407/1407 [==============================] - 7s 5ms/step - loss: 0.1469 - accuracy: 0.9461 - val_loss: 0.5125 - val_accuracy: 0.8655\n",
            "Epoch 9/10\n",
            "1407/1407 [==============================] - 8s 6ms/step - loss: 0.1297 - accuracy: 0.9525 - val_loss: 0.6090 - val_accuracy: 0.8711\n",
            "Epoch 10/10\n",
            "1407/1407 [==============================] - 8s 5ms/step - loss: 0.1198 - accuracy: 0.9569 - val_loss: 0.5967 - val_accuracy: 0.8641\n"
          ]
        }
      ]
    },
    {
      "cell_type": "code",
      "source": [
        "plt.subplot(1,2,1)\n",
        "plt.plot(hist.history['loss'], 'b-', label='loss')\n",
        "plt.plot(hist.history['val_loss'], 'r--', label='val_loss')\n",
        "plt.xlabel('Epoch')\n",
        "plt.legend()\n",
        "\n",
        "plt.subplot(1,2,2)\n",
        "plt.plot(hist.history['accuracy'], 'g-', label='accuracy')\n",
        "plt.plot(hist.history['val_accuracy'], 'r--', label='val_accuracy')\n",
        "plt.xlabel('Epoch')\n",
        "plt.ylim(0.7, 1)\n",
        "plt.legend()\n",
        "\n",
        "plt.show()\n",
        "\n",
        "cnn_model.evaluate(test_x, test_y, verbose=0)"
      ],
      "metadata": {
        "colab": {
          "base_uri": "https://localhost:8080/",
          "height": 301
        },
        "id": "h7nKnE2JA8aO",
        "outputId": "0323c2ec-dc9b-4c95-968c-ca5df03d8de1"
      },
      "execution_count": 17,
      "outputs": [
        {
          "output_type": "display_data",
          "data": {
            "text/plain": [
              "<Figure size 432x288 with 2 Axes>"
            ],
            "image/png": "[encoded data removed]"
          },
          "metadata": {
            "needs_background": "light"
          }
        },
        {
          "output_type": "execute_result",
          "data": {
            "text/plain": [
              "[0.6490989327430725, 0.8604000210762024]"
            ]
          },
          "metadata": {},
          "execution_count": 17
        }
      ]
    },
    {
      "cell_type": "code",
      "source": [
        ""
      ],
      "metadata": {
        "id": "oWcFaLKcF78i"
      },
      "execution_count": null,
      "outputs": []
    }
  ]
}