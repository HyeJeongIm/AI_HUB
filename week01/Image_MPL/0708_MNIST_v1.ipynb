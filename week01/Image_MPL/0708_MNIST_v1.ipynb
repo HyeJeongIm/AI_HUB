{
  "nbformat": 4,
  "nbformat_minor": 0,
  "metadata": {
    "colab": {
      "name": "0708.MNIST_v1.ipynb",
      "provenance": [],
      "authorship_tag": "ABX9TyO2LjTOGg2hHiMVYhvOkMRS",
      "include_colab_link": true
    },
    "kernelspec": {
      "name": "python3",
      "display_name": "Python 3"
    },
    "language_info": {
      "name": "python"
    },
    "accelerator": "GPU",
    "gpuClass": "standard"
  },
  "cells": [
    {
      "cell_type": "markdown",
      "metadata": {
        "id": "view-in-github",
        "colab_type": "text"
      },
      "source": [
        "<a href=\"https://colab.research.google.com/github/HyeJeongIm/AI_HUB_yangjae/blob/main/week1/image/0708_MNIST_v1.ipynb\" target=\"_parent\"><img src=\"https://colab.research.google.com/assets/colab-badge.svg\" alt=\"Open In Colab\"/></a>"
      ]
    },
    {
      "cell_type": "code",
      "execution_count": 1,
      "metadata": {
        "id": "pD1Ya6dZQJQw"
      },
      "outputs": [],
      "source": [
        "import tensorflow as tf\n",
        "from tensorflow.keras import Sequential, Input\n",
        "from tensorflow.keras.layers import Dense, Dropout, Flatten, Activation\n",
        "from tensorflow.keras.optimizers import Adam\n",
        "from tensorflow.keras.datasets import mnist\n",
        "from tensorflow.keras.utils import to_categorical\n",
        "\n",
        "import numpy as np\n",
        "import matplotlib.pyplot as plt"
      ]
    },
    {
      "cell_type": "markdown",
      "source": [
        "# Data"
      ],
      "metadata": {
        "id": "WiA1UiUKCO4K"
      }
    },
    {
      "cell_type": "code",
      "source": [
        "def load_mnist():\n",
        "  (train_X, train_y), (test_X, test_y) = mnist.load_data()\n",
        "\n",
        "  train_X = train_X / 255.0\n",
        "  test_X = test_X / 255.0\n",
        "\n",
        "  train_y = to_categorical(train_y, num_classes = 10)\n",
        "  test_y = to_categorical(test_y, num_classes = 10)\n",
        "\n",
        "  return train_X, train_y, test_X, test_y\n",
        "\n"
      ],
      "metadata": {
        "id": "cG8lX7ci4NKS"
      },
      "execution_count": 2,
      "outputs": []
    },
    {
      "cell_type": "code",
      "source": [
        "train_X, train_y, test_X, test_y = load_mnist()"
      ],
      "metadata": {
        "colab": {
          "base_uri": "https://localhost:8080/"
        },
        "id": "OtGZ6I2d_i7J",
        "outputId": "f390e43d-c95c-4bfd-f814-58f24f3309e2"
      },
      "execution_count": 3,
      "outputs": [
        {
          "output_type": "stream",
          "name": "stdout",
          "text": [
            "Downloading data from https://storage.googleapis.com/tensorflow/tf-keras-datasets/mnist.npz\n",
            "11493376/11490434 [==============================] - 0s 0us/step\n",
            "11501568/11490434 [==============================] - 0s 0us/step\n"
          ]
        }
      ]
    },
    {
      "cell_type": "code",
      "source": [
        "print(train_X.shape, train_y.shape, test_X.shape, test_y.shape)"
      ],
      "metadata": {
        "colab": {
          "base_uri": "https://localhost:8080/"
        },
        "id": "CuzwRUME_lSr",
        "outputId": "45c2a071-94fb-408d-80d2-7ed0b724d73f"
      },
      "execution_count": 4,
      "outputs": [
        {
          "output_type": "stream",
          "name": "stdout",
          "text": [
            "(60000, 28, 28) (60000, 10) (10000, 28, 28) (10000, 10)\n"
          ]
        }
      ]
    },
    {
      "cell_type": "markdown",
      "source": [
        "# Model"
      ],
      "metadata": {
        "id": "VBudATk4CTKa"
      }
    },
    {
      "cell_type": "code",
      "source": [
        "batch_size = 256\n",
        "epoch = 20"
      ],
      "metadata": {
        "id": "Fc61wphFCaDT"
      },
      "execution_count": 5,
      "outputs": []
    },
    {
      "cell_type": "code",
      "source": [
        "def build_mlp_model(num_classes):\n",
        "  \n",
        "  model = Sequential()\n",
        "  model.add(Flatten(input_shape = (28, 28)))\n",
        "  model.add(Dense(500,activation='relu'))\n",
        "  model.add(Dropout(0.5))\n",
        "  model.add(Dense(1000,activation='relu'))\n",
        "  model.add(Dropout(0.5))\n",
        "  model.add(Dense(100,activation='relu'))\n",
        "  model.add(Dropout(0.5))\n",
        "  model.add(Dense(num_classes,activation='softmax'))\n",
        "\n",
        "  return model\n",
        "\n",
        "mlp_model = build_mlp_model(len(train_y[0]))\n",
        "mlp_model.summary()"
      ],
      "metadata": {
        "colab": {
          "base_uri": "https://localhost:8080/"
        },
        "id": "7_uRZicM5XmA",
        "outputId": "df5a01e7-95ec-415b-c7b3-45c30b7bdd28"
      },
      "execution_count": 6,
      "outputs": [
        {
          "output_type": "stream",
          "name": "stdout",
          "text": [
            "Model: \"sequential\"\n",
            "_________________________________________________________________\n",
            " Layer (type)                Output Shape              Param #   \n",
            "=================================================================\n",
            " flatten (Flatten)           (None, 784)               0         \n",
            "                                                                 \n",
            " dense (Dense)               (None, 500)               392500    \n",
            "                                                                 \n",
            " dropout (Dropout)           (None, 500)               0         \n",
            "                                                                 \n",
            " dense_1 (Dense)             (None, 1000)              501000    \n",
            "                                                                 \n",
            " dropout_1 (Dropout)         (None, 1000)              0         \n",
            "                                                                 \n",
            " dense_2 (Dense)             (None, 100)               100100    \n",
            "                                                                 \n",
            " dropout_2 (Dropout)         (None, 100)               0         \n",
            "                                                                 \n",
            " dense_3 (Dense)             (None, 10)                1010      \n",
            "                                                                 \n",
            "=================================================================\n",
            "Total params: 994,610\n",
            "Trainable params: 994,610\n",
            "Non-trainable params: 0\n",
            "_________________________________________________________________\n"
          ]
        }
      ]
    },
    {
      "cell_type": "code",
      "source": [
        "mlp_model.compile(optimizer = Adam(learning_rate = 1e-3), loss = \"categorical_crossentropy\", metrics = ['accuracy'])\n",
        "hist = mlp_model.fit(train_X, train_y, batch_size = batch_size, epochs = epoch, validation_split = 0.2, shuffle = True)\n"
      ],
      "metadata": {
        "colab": {
          "base_uri": "https://localhost:8080/"
        },
        "id": "8sOTzT7YDLra",
        "outputId": "cb368e66-0fff-4c27-ebb0-34c7a4fa4e9c"
      },
      "execution_count": 7,
      "outputs": [
        {
          "output_type": "stream",
          "name": "stdout",
          "text": [
            "Epoch 1/20\n",
            "188/188 [==============================] - 4s 6ms/step - loss: 0.5746 - accuracy: 0.8212 - val_loss: 0.1649 - val_accuracy: 0.9518\n",
            "Epoch 2/20\n",
            "188/188 [==============================] - 1s 4ms/step - loss: 0.2327 - accuracy: 0.9352 - val_loss: 0.1222 - val_accuracy: 0.9645\n",
            "Epoch 3/20\n",
            "188/188 [==============================] - 1s 4ms/step - loss: 0.1775 - accuracy: 0.9490 - val_loss: 0.1052 - val_accuracy: 0.9689\n",
            "Epoch 4/20\n",
            "188/188 [==============================] - 1s 4ms/step - loss: 0.1510 - accuracy: 0.9574 - val_loss: 0.0959 - val_accuracy: 0.9725\n",
            "Epoch 5/20\n",
            "188/188 [==============================] - 1s 4ms/step - loss: 0.1286 - accuracy: 0.9634 - val_loss: 0.0948 - val_accuracy: 0.9732\n",
            "Epoch 6/20\n",
            "188/188 [==============================] - 1s 4ms/step - loss: 0.1166 - accuracy: 0.9670 - val_loss: 0.0837 - val_accuracy: 0.9762\n",
            "Epoch 7/20\n",
            "188/188 [==============================] - 1s 4ms/step - loss: 0.1032 - accuracy: 0.9707 - val_loss: 0.0823 - val_accuracy: 0.9772\n",
            "Epoch 8/20\n",
            "188/188 [==============================] - 1s 4ms/step - loss: 0.0954 - accuracy: 0.9716 - val_loss: 0.0833 - val_accuracy: 0.9776\n",
            "Epoch 9/20\n",
            "188/188 [==============================] - 1s 4ms/step - loss: 0.0925 - accuracy: 0.9735 - val_loss: 0.0778 - val_accuracy: 0.9782\n",
            "Epoch 10/20\n",
            "188/188 [==============================] - 1s 4ms/step - loss: 0.0825 - accuracy: 0.9769 - val_loss: 0.0769 - val_accuracy: 0.9790\n",
            "Epoch 11/20\n",
            "188/188 [==============================] - 1s 4ms/step - loss: 0.0772 - accuracy: 0.9773 - val_loss: 0.0812 - val_accuracy: 0.9792\n",
            "Epoch 12/20\n",
            "188/188 [==============================] - 1s 4ms/step - loss: 0.0740 - accuracy: 0.9792 - val_loss: 0.0795 - val_accuracy: 0.9783\n",
            "Epoch 13/20\n",
            "188/188 [==============================] - 1s 4ms/step - loss: 0.0695 - accuracy: 0.9796 - val_loss: 0.0859 - val_accuracy: 0.9786\n",
            "Epoch 14/20\n",
            "188/188 [==============================] - 1s 4ms/step - loss: 0.0666 - accuracy: 0.9804 - val_loss: 0.0817 - val_accuracy: 0.9792\n",
            "Epoch 15/20\n",
            "188/188 [==============================] - 1s 4ms/step - loss: 0.0660 - accuracy: 0.9808 - val_loss: 0.0782 - val_accuracy: 0.9807\n",
            "Epoch 16/20\n",
            "188/188 [==============================] - 1s 4ms/step - loss: 0.0607 - accuracy: 0.9821 - val_loss: 0.0805 - val_accuracy: 0.9797\n",
            "Epoch 17/20\n",
            "188/188 [==============================] - 1s 4ms/step - loss: 0.0590 - accuracy: 0.9825 - val_loss: 0.0869 - val_accuracy: 0.9792\n",
            "Epoch 18/20\n",
            "188/188 [==============================] - 1s 4ms/step - loss: 0.0536 - accuracy: 0.9836 - val_loss: 0.0799 - val_accuracy: 0.9812\n",
            "Epoch 19/20\n",
            "188/188 [==============================] - 1s 4ms/step - loss: 0.0573 - accuracy: 0.9834 - val_loss: 0.0818 - val_accuracy: 0.9801\n",
            "Epoch 20/20\n",
            "188/188 [==============================] - 1s 4ms/step - loss: 0.0517 - accuracy: 0.9845 - val_loss: 0.0785 - val_accuracy: 0.9806\n"
          ]
        }
      ]
    },
    {
      "cell_type": "code",
      "source": [
        "test_loss, test_accuracy = mlp_model.evaluate(test_X, test_y)\n",
        "\n",
        "print(\"Test loss: {:.5f}, Test accuracy: {:.3f}%\".format(test_loss, test_accuracy * 100))\n"
      ],
      "metadata": {
        "colab": {
          "base_uri": "https://localhost:8080/"
        },
        "id": "n0FGIvjICcNk",
        "outputId": "27c066e4-c299-4e38-de1a-b254ef201bea"
      },
      "execution_count": 8,
      "outputs": [
        {
          "output_type": "stream",
          "name": "stdout",
          "text": [
            "313/313 [==============================] - 1s 2ms/step - loss: 0.0679 - accuracy: 0.9817\n",
            "Test loss: 0.06793, Test accuracy: 98.170%\n"
          ]
        }
      ]
    },
    {
      "cell_type": "markdown",
      "source": [
        "# 그래프"
      ],
      "metadata": {
        "id": "GV8Fl3APFBdO"
      }
    },
    {
      "cell_type": "code",
      "source": [
        "print(type(hist))\n",
        "print(hist.history['loss'])"
      ],
      "metadata": {
        "colab": {
          "base_uri": "https://localhost:8080/"
        },
        "id": "fGvCP83qFV1_",
        "outputId": "eeb6a9cf-c3c7-4d95-9901-16ab253743f9"
      },
      "execution_count": 17,
      "outputs": [
        {
          "output_type": "stream",
          "name": "stdout",
          "text": [
            "<class 'keras.callbacks.History'>\n",
            "[0.5745716691017151, 0.23271089792251587, 0.17750447988510132, 0.15098689496517181, 0.12863817811012268, 0.11658293008804321, 0.10321715474128723, 0.09540622681379318, 0.09251492470502853, 0.0825190469622612, 0.07722651958465576, 0.07402084767818451, 0.0694851502776146, 0.06661652028560638, 0.06596308946609497, 0.06072504073381424, 0.05900033935904503, 0.053552623838186264, 0.05726049840450287, 0.05169104412198067]\n"
          ]
        }
      ]
    },
    {
      "cell_type": "code",
      "source": [
        "def plot_loss(hist):\n",
        "    # TODO: hist 객체에서 train loss와 valid loss를 불러오세요.\n",
        "    train_loss = hist.history['loss']\n",
        "    val_loss = hist.history['val_loss']\n",
        "    epochs = np.arange(1, len(train_loss) + 1)\n",
        "\n",
        "    fig, ax = plt.subplots()\n",
        "    ax.set_xticks(list(epochs))\n",
        "    # TODO: ax를 이용하여 train loss와 valid loss를 plot 하세요.\n",
        "    ax.plot(epochs, train_loss, marker='.', c='blue', label=\"Train_loss\")\n",
        "    ax.plot(epochs, val_loss, marker='.', c='red', label=\"Val_loss\")\n",
        "    \n",
        "    ax.legend(loc=\"upper right\")\n",
        "    ax.grid()\n",
        "    ax.set_xlabel(\"Epoch\")\n",
        "    ax.set_ylabel(\"Loss\")"
      ],
      "metadata": {
        "id": "z03wa4xP7izT"
      },
      "execution_count": 20,
      "outputs": []
    },
    {
      "cell_type": "code",
      "source": [
        "def plot_accuracy(hist):\n",
        "    # TODO: hist 객체에서 train accuracy와 valid accuracy를 불러오세요.\n",
        "    train_acc = hist.history[\"accuracy\"]\n",
        "    val_acc = hist.history[\"val_accuracy\"]\n",
        "    epochs = np.arange(1, len(train_acc) + 1)\n",
        "\n",
        "    fig, ax = plt.subplots()\n",
        "    ax.set_xticks(list(epochs))\n",
        "    # TODO: ax를 이용하여 train accuracy와와 valid accuracy와를 plot 하세요.\n",
        "    ax.plot(epochs, train_acc,marker='.', c='blue', label=\"Train_acc\")\n",
        "    ax.plot(epochs, val_acc,marker='.', c='red', label=\"Val_acc\")\n",
        "\n",
        "    ax.legend(loc=\"lower right\")\n",
        "    ax.grid()\n",
        "    ax.set_xlabel(\"Epoch\")\n",
        "    ax.set_ylabel(\"Accuracy\")"
      ],
      "metadata": {
        "id": "hsWaMfOSGBL9"
      },
      "execution_count": 22,
      "outputs": []
    },
    {
      "cell_type": "code",
      "source": [
        "plot_loss(hist)\n",
        "plot_accuracy(hist)"
      ],
      "metadata": {
        "id": "B-qt_Rw5GXN4",
        "outputId": "be0eadec-6aee-441a-b1a8-3503353ed718",
        "colab": {
          "base_uri": "https://localhost:8080/",
          "height": 545
        }
      },
      "execution_count": 23,
      "outputs": [
        {
          "output_type": "display_data",
          "data": {
            "text/plain": [
              "<Figure size 432x288 with 1 Axes>"
            ],
            "image/png": "[encoded data removed]"
          },
          "metadata": {
            "needs_background": "light"
          }
        },
        {
          "output_type": "display_data",
          "data": {
            "text/plain": [
              "<Figure size 432x288 with 1 Axes>"
            ],
            "image/png": "[encoded data removed]"
          },
          "metadata": {
            "needs_background": "light"
          }
        }
      ]
    }
  ]
}