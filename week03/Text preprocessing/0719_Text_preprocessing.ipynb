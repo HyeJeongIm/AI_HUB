{
  "nbformat": 4,
  "nbformat_minor": 0,
  "metadata": {
    "colab": {
      "name": "0719.Text preprocessing.ipynb",
      "provenance": [],
      "collapsed_sections": [],
      "authorship_tag": "ABX9TyN6Ij30ViO0L1anQENmMHkQ",
      "include_colab_link": true
    },
    "kernelspec": {
      "name": "python3",
      "display_name": "Python 3"
    },
    "language_info": {
      "name": "python"
    }
  },
  "cells": [
    {
      "cell_type": "markdown",
      "metadata": {
        "id": "view-in-github",
        "colab_type": "text"
      },
      "source": [
        "<a href=\"https://colab.research.google.com/github/HyeJeongIm/AI_HUB_yangjae/blob/main/week03/Text%20preprocessing/0719_Text_preprocessing.ipynb\" target=\"_parent\"><img src=\"https://colab.research.google.com/assets/colab-badge.svg\" alt=\"Open In Colab\"/></a>"
      ]
    },
    {
      "cell_type": "markdown",
      "source": [
        "# Text preprocessing"
      ],
      "metadata": {
        "id": "EUn20WOyS5kB"
      }
    },
    {
      "cell_type": "markdown",
      "source": [
        "### 소문자로 통일\n"
      ],
      "metadata": {
        "id": "7MRfGUA9SxYD"
      }
    },
    {
      "cell_type": "code",
      "source": [
        "original_text = 'Korea is a region in East Asia.'\n",
        "lower_text = original_text.lower()\n",
        "lower_text"
      ],
      "metadata": {
        "colab": {
          "base_uri": "https://localhost:8080/",
          "height": 36
        },
        "id": "utJxvHK1SvzH",
        "outputId": "ccb5a317-f30b-45b6-e6df-02845fc8b407"
      },
      "execution_count": 2,
      "outputs": [
        {
          "output_type": "execute_result",
          "data": {
            "text/plain": [
              "'korea is a region in east asia.'"
            ],
            "application/vnd.google.colaboratory.intrinsic+json": {
              "type": "string"
            }
          },
          "metadata": {},
          "execution_count": 2
        }
      ]
    },
    {
      "cell_type": "markdown",
      "source": [
        "### 노이즈 제거 "
      ],
      "metadata": {
        "id": "qBw_8TE1S_BU"
      }
    },
    {
      "cell_type": "code",
      "execution_count": 1,
      "metadata": {
        "colab": {
          "base_uri": "https://localhost:8080/"
        },
        "id": "jfG1fF9hRO7I",
        "outputId": "3934b280-f390-4db7-cf7c-8d4462fe927f"
      },
      "outputs": [
        {
          "output_type": "stream",
          "name": "stdout",
          "text": [
            "(로마=연합뉴스) 전성훈 특파원 = 신종 코로나바이러스 감염증(코로나19) 재확산 위기에 직면한 이탈리아 정부가 25일(현지시간) 고강도 제한 조처를 추가로 내놓을 것으로 전망된다. \n",
            "일간 라 레푸블리카 등 현지 언론에 따르면 주세페 콘테 총리는 24일 긴급 당정 회의를 열어 코로나19 확산세를 꺾기 위한 추가 제한 조처를 논의했다. \n",
            "논의된 내용의 핵심은 음식점과 주점, 아이스크림 가게, 빵집 등의 주중 영업시간을 오후 6시 또는 오후 8시까지로 제한하고 일요일과 공휴일에는 영업을 전면 금지한다는 것이다. \n"
          ]
        }
      ],
      "source": [
        "import re\n",
        "extract_html_body_pattern = re.compile(r'<[^>]+?>(.+?)</[^>]+?>')\n",
        "original_text = \"\"\"\n",
        "<p dmcf-pid=\"AApwHtOKeU\" dmcf-ptype=\"general\">(로마=연합뉴스) 전성훈 특파원 = 신종 코로나바이러스 감염증(코로나19) 재확산 위기에 직면한 이탈리아 정부가 25일(현지시간) 고강도 제한 조처를 추가로 내놓을 것으로 전망된다. </p>\n",
        "<p dmcf-pid=\"AvOfaLP6Id\" dmcf-ptype=\"general\">일간 라 레푸블리카 등 현지 언론에 따르면 주세페 콘테 총리는 24일 긴급 당정 회의를 열어 코로나19 확산세를 꺾기 위한 추가 제한 조처를 논의했다. </p>\n",
        "<p dmcf-pid=\"ADmesRBWhi\" dmcf-ptype=\"general\">논의된 내용의 핵심은 음식점과 주점, 아이스크림 가게, 빵집 등의 주중 영업시간을 오후 6시 또는 오후 8시까지로 제한하고 일요일과 공휴일에는 영업을 전면 금지한다는 것이다. </p>\n",
        "\"\"\"\n",
        "body_list = extract_html_body_pattern.findall(original_text)\n",
        "html_body = \"\\n\".join(body_list)\n",
        "print(html_body)"
      ]
    },
    {
      "cell_type": "markdown",
      "source": [
        "### 토큰화"
      ],
      "metadata": {
        "id": "AZBefLpfTC6y"
      }
    },
    {
      "cell_type": "code",
      "source": [
        "import nltk\n",
        "nltk.download('punkt')\n",
        "from nltk.tokenize import word_tokenize\n",
        "from nltk.tokenize import sent_tokenize\n",
        "\n",
        "original_text = 'Korea is a region in East Asia. Since 1945 it has been divided into two states.'\n",
        "sentence_token = sent_tokenize(original_text)\n",
        "\n",
        "print(sentence_token)"
      ],
      "metadata": {
        "colab": {
          "base_uri": "https://localhost:8080/"
        },
        "id": "t2W8zLjISVrX",
        "outputId": "bbfcd80b-6c9f-4f11-d4f9-f180d26be3ec"
      },
      "execution_count": 6,
      "outputs": [
        {
          "output_type": "stream",
          "name": "stdout",
          "text": [
            "['Korea is a region in East Asia.', 'Since 1945 it has been divided into two states.']\n"
          ]
        },
        {
          "output_type": "stream",
          "name": "stderr",
          "text": [
            "[nltk_data] Downloading package punkt to /root/nltk_data...\n",
            "[nltk_data]   Package punkt is already up-to-date!\n"
          ]
        }
      ]
    },
    {
      "cell_type": "code",
      "source": [
        "word_token = word_tokenize(original_text)\n",
        "\n",
        "print(word_token)"
      ],
      "metadata": {
        "colab": {
          "base_uri": "https://localhost:8080/"
        },
        "id": "A5-y4lTvUOMI",
        "outputId": "2745aa85-6310-4966-cda7-d4f78dd1deb0"
      },
      "execution_count": 7,
      "outputs": [
        {
          "output_type": "stream",
          "name": "stdout",
          "text": [
            "['Korea', 'is', 'a', 'region', 'in', 'East', 'Asia', '.', 'Since', '1945', 'it', 'has', 'been', 'divided', 'into', 'two', 'states', '.']\n"
          ]
        }
      ]
    },
    {
      "cell_type": "markdown",
      "source": [
        "### stop-words 제거 "
      ],
      "metadata": {
        "id": "PHsQM-ERUjfy"
      }
    },
    {
      "cell_type": "code",
      "source": [
        "import nltk\n",
        "nltk.download('stopwords')\n",
        "from nltk.corpus import stopwords\n",
        "\n",
        "stop_words = set(stopwords.words('english'))\n",
        "\n",
        "original_text = 'Kera is a region in East Asia.'\n",
        "word_token = word_tokenize(original_text) # 토큰화 \n",
        "\n",
        "# stop-words 제거한 words를 filtered_text에 \n",
        "filtered_text = [ word for word in word_token if not word in stop_words ]\n",
        "\n",
        "print(filtered_text)\n"
      ],
      "metadata": {
        "colab": {
          "base_uri": "https://localhost:8080/"
        },
        "id": "iMK4UMPbUf99",
        "outputId": "1d1eb522-765c-4902-f2df-1396b06f9fad"
      },
      "execution_count": 8,
      "outputs": [
        {
          "output_type": "stream",
          "name": "stdout",
          "text": [
            "['Kera', 'region', 'East', 'Asia', '.']\n"
          ]
        },
        {
          "output_type": "stream",
          "name": "stderr",
          "text": [
            "[nltk_data] Downloading package stopwords to /root/nltk_data...\n",
            "[nltk_data]   Unzipping corpora/stopwords.zip.\n"
          ]
        }
      ]
    },
    {
      "cell_type": "code",
      "source": [
        ""
      ],
      "metadata": {
        "id": "1pIaS-u7rpjy"
      },
      "execution_count": null,
      "outputs": []
    }
  ]
}